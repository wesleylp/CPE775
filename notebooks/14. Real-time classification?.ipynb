{
 "cells": [
  {
   "cell_type": "code",
   "execution_count": 1,
   "metadata": {
    "collapsed": true
   },
   "outputs": [],
   "source": [
    "from __future__ import print_function, division\n",
    "import os\n",
    "import torch\n",
    "import pandas as pd\n",
    "from skimage import io, transform\n",
    "import numpy as np\n",
    "import matplotlib.pyplot as plt\n",
    "\n",
    "# Ignore warnings\n",
    "import warnings\n",
    "warnings.filterwarnings(\"ignore\")\n",
    "\n",
    "plt.ion()   # interactive mode"
   ]
  },
  {
   "cell_type": "code",
   "execution_count": 2,
   "metadata": {
    "collapsed": true
   },
   "outputs": [],
   "source": [
    "%load_ext autoreload\n",
    "%autoreload 2"
   ]
  },
  {
   "cell_type": "code",
   "execution_count": 3,
   "metadata": {
    "collapsed": true
   },
   "outputs": [],
   "source": [
    "import sys\n",
    "sys.path.insert(0, '../')"
   ]
  },
  {
   "cell_type": "code",
   "execution_count": 4,
   "metadata": {
    "collapsed": true
   },
   "outputs": [],
   "source": [
    "os.environ['CUDA_VISIBLE_DEVICES'] = '1'"
   ]
  },
  {
   "cell_type": "markdown",
   "metadata": {},
   "source": [
    "## Loading face detector"
   ]
  },
  {
   "cell_type": "code",
   "execution_count": 5,
   "metadata": {
    "collapsed": true
   },
   "outputs": [],
   "source": [
    "import dlib"
   ]
  },
  {
   "cell_type": "code",
   "execution_count": 6,
   "metadata": {
    "collapsed": true
   },
   "outputs": [],
   "source": [
    "# Create a HOG face detector using the built-in dlib class\n",
    "face_detector = dlib.get_frontal_face_detector()\n",
    "# Using cnns\n",
    "# face_detector = dlib.cnn_face_detection_model_v1('../models/mmod_human_face_detector.dat')"
   ]
  },
  {
   "cell_type": "markdown",
   "metadata": {},
   "source": [
    "## Loading alignment model"
   ]
  },
  {
   "cell_type": "code",
   "execution_count": 7,
   "metadata": {},
   "outputs": [],
   "source": [
    "from cpe775.align import AlignDlib"
   ]
  },
  {
   "cell_type": "code",
   "execution_count": 8,
   "metadata": {
    "collapsed": true
   },
   "outputs": [],
   "source": [
    "align = AlignDlib()"
   ]
  },
  {
   "cell_type": "markdown",
   "metadata": {
    "collapsed": true
   },
   "source": [
    "## Loading embedding model"
   ]
  },
  {
   "cell_type": "code",
   "execution_count": 9,
   "metadata": {},
   "outputs": [],
   "source": [
    "from cpe775.networks.openface import OpenFace\n",
    "from cpe775.face_detector import FaceEmbedding"
   ]
  },
  {
   "cell_type": "code",
   "execution_count": 10,
   "metadata": {},
   "outputs": [],
   "source": [
    "embedding = FaceEmbedding('../models/openface/nn4.small2.v1.pth')"
   ]
  },
  {
   "cell_type": "markdown",
   "metadata": {},
   "source": [
    "## Loading landmarks regressor"
   ]
  },
  {
   "cell_type": "code",
   "execution_count": 11,
   "metadata": {
    "collapsed": true
   },
   "outputs": [],
   "source": [
    "from cpe775.networks.resnet import resnet18\n",
    "from cpe775.face_detector import LandmarksDetector"
   ]
  },
  {
   "cell_type": "code",
   "execution_count": 12,
   "metadata": {
    "scrolled": true
   },
   "outputs": [],
   "source": [
    "net = resnet18(in_shape=(-1, 1, 256, 256), out_shape=(-1, 68, 2))\n",
    "landmarks_detector = LandmarksDetector(net, '../models/landmarks_detector.pth')"
   ]
  },
  {
   "cell_type": "markdown",
   "metadata": {},
   "source": [
    "## Loading classification model"
   ]
  },
  {
   "cell_type": "code",
   "execution_count": 13,
   "metadata": {
    "collapsed": true
   },
   "outputs": [],
   "source": [
    "from cpe775.face_detector import FaceClassify"
   ]
  },
  {
   "cell_type": "code",
   "execution_count": 14,
   "metadata": {},
   "outputs": [],
   "source": [
    "classify = FaceClassify('../models/face_classification_svm.pkl')"
   ]
  },
  {
   "cell_type": "markdown",
   "metadata": {},
   "source": [
    "## Loading mapping"
   ]
  },
  {
   "cell_type": "markdown",
   "metadata": {},
   "source": [
    "## Using the webcam\n",
    "Adapted from: https://github.com/ageitgey/face_recognition"
   ]
  },
  {
   "cell_type": "code",
   "execution_count": 15,
   "metadata": {
    "collapsed": true
   },
   "outputs": [],
   "source": [
    "import cv2\n",
    "\n",
    "# This is a demo of running face recognition on live video from your webcam. It's a little more complicated than the\n",
    "# other example, but it includes some basic performance tweaks to make things run a lot faster:\n",
    "#   1. Process each video frame at 1/4 resolution (though still display it at full resolution)\n",
    "#   2. Only detect faces in every other frame of video.\n",
    "\n",
    "# PLEASE NOTE: This example requires OpenCV (the `cv2` library) to be installed only to read from your webcam.\n",
    "# OpenCV is *not* required to use the face_recognition library. It's only required if you want to run this\n",
    "# specific demo. If you have trouble installing it, try any of the other demos that don't require it instead.\n"
   ]
  },
  {
   "cell_type": "code",
   "execution_count": 20,
   "metadata": {
    "scrolled": true
   },
   "outputs": [],
   "source": [
    "# Get a reference to webcam #0 (the default one)\n",
    "video_capture = cv2.VideoCapture(0)\n",
    "\n",
    "# Initialize some variables\n",
    "face_locations = []\n",
    "face_names = []\n",
    "face_landmarks = []\n",
    "face_probas = []\n",
    "process_this_frame = True\n",
    "scale = 0.25\n",
    "while True:\n",
    "    # Grab a single frame of video\n",
    "    ret, frame = video_capture.read()\n",
    "\n",
    "    # Resize frame of video to 1/4 size for faster face recognition processing\n",
    "    small_frame = cv2.resize(frame, (0, 0), fx=scale, fy=scale)\n",
    "    \n",
    "    # Only process every other frame of video to save time\n",
    "    if process_this_frame:\n",
    "        \n",
    "        face_locations = []\n",
    "        face_names = []\n",
    "        face_probas = []\n",
    "        face_landmarks = []\n",
    "        \n",
    "        # Find all the faces and face encodings in the current frame of video\n",
    "        detected_faces = face_detector(small_frame, 2)\n",
    "        \n",
    "        # Loop through each face we found in the image\n",
    "        for i, face_rect in enumerate(detected_faces):\n",
    "\n",
    "            # Find the landmarks given the image and the bounding boxes\n",
    "            landmarks, rect = landmarks_detector.from_rect(small_frame, face_rect)\n",
    "            \n",
    "            face_locations.append(rect)\n",
    "            \n",
    "            face_landmarks.append(landmarks)\n",
    "        \n",
    "            # Align and resize the face given the landmarks\n",
    "            thumbnail = align(small_frame, landmarks)\n",
    "            \n",
    "            # Extract the embedding from the aligned face \n",
    "            embed = embedding(thumbnail)\n",
    "            \n",
    "            # Classify\n",
    "            name, prob = classify(embed)\n",
    "            \n",
    "            face_probas.append(prob)\n",
    "            \n",
    "            if prob > 0.5:\n",
    "                face_names.append(name)\n",
    "            else:\n",
    "                face_names.append('unknown')\n",
    "\n",
    "    process_this_frame = not process_this_frame\n",
    "\n",
    "\n",
    "    # Display the results\n",
    "    for (left, top, right, bottom), name, prob, landmarks in zip(face_locations, face_names, face_probas, face_landmarks):\n",
    "        # Scale back up face locations since the frame we detected in was scaled to 1/4 size\n",
    "        top = int(top/scale)\n",
    "        right = int(right/scale)\n",
    "        bottom = int(bottom/scale)\n",
    "        left = int(left/scale)\n",
    "\n",
    "        # Draw a box around the face\n",
    "        cv2.rectangle(frame, (left, top), (right, bottom), (0, 0, 255), 2)\n",
    "\n",
    "        # Draw a label with a name below the face\n",
    "        cv2.rectangle(frame, (left, bottom - 35), (right, bottom), (0, 0, 255), cv2.FILLED)\n",
    "        font = cv2.FONT_HERSHEY_DUPLEX\n",
    "        cv2.putText(frame, '{}, {:.2f}%'.format(name, prob*100), (left + 6, bottom - 6), font, 0.5, (255, 255, 255), 1)\n",
    "        \n",
    "        # loop over the (x, y)-coordinates for the facial landmarks and draw them on the image\n",
    "        for (x, y) in landmarks:\n",
    "            cv2.circle(frame, (int(x/scale), int(y/scale)), 1, (0, 0, 255), -1)\n",
    "\n",
    "    # Display the resulting image\n",
    "    cv2.imshow('Video', frame)\n",
    "\n",
    "    # Hit 'q' on the keyboard to quit!\n",
    "    if cv2.waitKey(1) & 0xFF == ord('q'):\n",
    "        break\n",
    "\n",
    "# Release handle to the webcam\n",
    "video_capture.release()\n",
    "cv2.destroyAllWindows()"
   ]
  }
 ],
 "metadata": {
  "kernelspec": {
   "display_name": "Python 3",
   "language": "python",
   "name": "python3"
  },
  "language_info": {
   "codemirror_mode": {
    "name": "ipython",
    "version": 3
   },
   "file_extension": ".py",
   "mimetype": "text/x-python",
   "name": "python",
   "nbconvert_exporter": "python",
   "pygments_lexer": "ipython3",
   "version": "3.5.3"
  }
 },
 "nbformat": 4,
 "nbformat_minor": 2
}
